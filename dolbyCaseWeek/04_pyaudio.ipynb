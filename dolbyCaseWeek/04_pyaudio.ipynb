{
 "cells": [
  {
   "cell_type": "markdown",
   "metadata": {},
   "source": [
    "## 04_pyaudio"
   ]
  },
  {
   "cell_type": "markdown",
   "metadata": {},
   "source": [
    "### DOLBY CASEWEEK PWR 2019"
   ]
  },
  {
   "cell_type": "code",
   "execution_count": 1,
   "metadata": {},
   "outputs": [],
   "source": [
    "import pyaudio\n",
    "import matplotlib as plt\n",
    "import numpy as np\n",
    "import wave"
   ]
  },
  {
   "cell_type": "code",
   "execution_count": 2,
   "metadata": {},
   "outputs": [
    {
     "data": {
      "text/plain": [
       "1246720"
      ]
     },
     "execution_count": 2,
     "metadata": {},
     "output_type": "execute_result"
    }
   ],
   "source": [
    "pyaudio.get_portaudio_version()"
   ]
  },
  {
   "cell_type": "code",
   "execution_count": 3,
   "metadata": {},
   "outputs": [],
   "source": [
    "# create class pyaudio\n",
    "pa = pyaudio.PyAudio()"
   ]
  },
  {
   "cell_type": "code",
   "execution_count": 4,
   "metadata": {},
   "outputs": [
    {
     "data": {
      "text/plain": [
       "{'index': 0,\n",
       " 'structVersion': 1,\n",
       " 'type': 2,\n",
       " 'name': 'MME',\n",
       " 'deviceCount': 18,\n",
       " 'defaultInputDevice': 1,\n",
       " 'defaultOutputDevice': 9}"
      ]
     },
     "execution_count": 4,
     "metadata": {},
     "output_type": "execute_result"
    }
   ],
   "source": [
    "# defualt driver info\n",
    "pa.get_default_host_api_info()"
   ]
  },
  {
   "cell_type": "code",
   "execution_count": 5,
   "metadata": {},
   "outputs": [
    {
     "data": {
      "text/plain": [
       "2"
      ]
     },
     "execution_count": 5,
     "metadata": {},
     "output_type": "execute_result"
    }
   ],
   "source": [
    "# how many \n",
    "pa.get_host_api_count()"
   ]
  },
  {
   "cell_type": "code",
   "execution_count": 6,
   "metadata": {},
   "outputs": [
    {
     "data": {
      "text/plain": [
       "{'index': 1,\n",
       " 'structVersion': 1,\n",
       " 'type': 11,\n",
       " 'name': 'Windows WDM-KS',\n",
       " 'deviceCount': 18,\n",
       " 'defaultInputDevice': 21,\n",
       " 'defaultOutputDevice': 24}"
      ]
     },
     "execution_count": 6,
     "metadata": {},
     "output_type": "execute_result"
    }
   ],
   "source": [
    "# info by id\n",
    "pa.get_host_api_info_by_index(1)"
   ]
  },
  {
   "cell_type": "code",
   "execution_count": 7,
   "metadata": {},
   "outputs": [
    {
     "data": {
      "text/plain": [
       "{'index': 0,\n",
       " 'structVersion': 1,\n",
       " 'type': 2,\n",
       " 'name': 'MME',\n",
       " 'deviceCount': 18,\n",
       " 'defaultInputDevice': 1,\n",
       " 'defaultOutputDevice': 9}"
      ]
     },
     "execution_count": 7,
     "metadata": {},
     "output_type": "execute_result"
    }
   ],
   "source": [
    "# info by id\n",
    "pa.get_host_api_info_by_index(0)"
   ]
  },
  {
   "cell_type": "code",
   "execution_count": 8,
   "metadata": {},
   "outputs": [
    {
     "data": {
      "text/plain": [
       "{'index': 9,\n",
       " 'structVersion': 2,\n",
       " 'name': 'Analog (3+4) (RME Babyface)',\n",
       " 'hostApi': 0,\n",
       " 'maxInputChannels': 0,\n",
       " 'maxOutputChannels': 2,\n",
       " 'defaultLowInputLatency': 0.09,\n",
       " 'defaultLowOutputLatency': 0.09,\n",
       " 'defaultHighInputLatency': 0.18,\n",
       " 'defaultHighOutputLatency': 0.18,\n",
       " 'defaultSampleRate': 44100.0}"
      ]
     },
     "execution_count": 8,
     "metadata": {},
     "output_type": "execute_result"
    }
   ],
   "source": [
    "# default output\n",
    "pa.get_default_output_device_info()"
   ]
  },
  {
   "cell_type": "code",
   "execution_count": 9,
   "metadata": {},
   "outputs": [
    {
     "data": {
      "text/plain": [
       "{'index': 1,\n",
       " 'structVersion': 2,\n",
       " 'name': 'ADAT (7+8) (RME Babyface)',\n",
       " 'hostApi': 0,\n",
       " 'maxInputChannels': 2,\n",
       " 'maxOutputChannels': 0,\n",
       " 'defaultLowInputLatency': 0.09,\n",
       " 'defaultLowOutputLatency': 0.09,\n",
       " 'defaultHighInputLatency': 0.18,\n",
       " 'defaultHighOutputLatency': 0.18,\n",
       " 'defaultSampleRate': 44100.0}"
      ]
     },
     "execution_count": 9,
     "metadata": {},
     "output_type": "execute_result"
    }
   ],
   "source": [
    "# default input\n",
    "pa.get_default_input_device_info()"
   ]
  },
  {
   "cell_type": "code",
   "execution_count": 10,
   "metadata": {},
   "outputs": [
    {
     "name": "stdout",
     "output_type": "stream",
     "text": [
      "index 0\n",
      "structVersion 2\n",
      "name Mapowanie dźwięku Microsoft - Input\n",
      "hostApi 0\n",
      "maxInputChannels 2\n",
      "maxOutputChannels 0\n",
      "defaultLowInputLatency 0.09\n",
      "defaultLowOutputLatency 0.09\n",
      "defaultHighInputLatency 0.18\n",
      "defaultHighOutputLatency 0.18\n",
      "defaultSampleRate 44100.0\n",
      "index 1\n",
      "structVersion 2\n",
      "name ADAT (7+8) (RME Babyface)\n",
      "hostApi 0\n",
      "maxInputChannels 2\n",
      "maxOutputChannels 0\n",
      "defaultLowInputLatency 0.09\n",
      "defaultLowOutputLatency 0.09\n",
      "defaultHighInputLatency 0.18\n",
      "defaultHighOutputLatency 0.18\n",
      "defaultSampleRate 44100.0\n",
      "index 2\n",
      "structVersion 2\n",
      "name ADAT (5+6) (RME Babyface)\n",
      "hostApi 0\n",
      "maxInputChannels 2\n",
      "maxOutputChannels 0\n",
      "defaultLowInputLatency 0.09\n",
      "defaultLowOutputLatency 0.09\n",
      "defaultHighInputLatency 0.18\n",
      "defaultHighOutputLatency 0.18\n",
      "defaultSampleRate 44100.0\n",
      "index 3\n",
      "structVersion 2\n",
      "name ADAT (3+4) (RME Babyface)\n",
      "hostApi 0\n",
      "maxInputChannels 2\n",
      "maxOutputChannels 0\n",
      "defaultLowInputLatency 0.09\n",
      "defaultLowOutputLatency 0.09\n",
      "defaultHighInputLatency 0.18\n",
      "defaultHighOutputLatency 0.18\n",
      "defaultSampleRate 44100.0\n",
      "index 4\n",
      "structVersion 2\n",
      "name Mikrofon (Realtek High Definiti\n",
      "hostApi 0\n",
      "maxInputChannels 2\n",
      "maxOutputChannels 0\n",
      "defaultLowInputLatency 0.09\n",
      "defaultLowOutputLatency 0.09\n",
      "defaultHighInputLatency 0.18\n",
      "defaultHighOutputLatency 0.18\n",
      "defaultSampleRate 44100.0\n",
      "index 5\n",
      "structVersion 2\n",
      "name Line In /Microphone (Waves Soun\n",
      "hostApi 0\n",
      "maxInputChannels 8\n",
      "maxOutputChannels 0\n",
      "defaultLowInputLatency 0.09\n",
      "defaultLowOutputLatency 0.09\n",
      "defaultHighInputLatency 0.18\n",
      "defaultHighOutputLatency 0.18\n",
      "defaultSampleRate 44100.0\n",
      "index 6\n",
      "structVersion 2\n",
      "name Analog (1+2) (RME Babyface)\n",
      "hostApi 0\n",
      "maxInputChannels 2\n",
      "maxOutputChannels 0\n",
      "defaultLowInputLatency 0.09\n",
      "defaultLowOutputLatency 0.09\n",
      "defaultHighInputLatency 0.18\n",
      "defaultHighOutputLatency 0.18\n",
      "defaultSampleRate 44100.0\n",
      "index 7\n",
      "structVersion 2\n",
      "name SPDIF/ADAT (1+2) (RME Babyface)\n",
      "hostApi 0\n",
      "maxInputChannels 2\n",
      "maxOutputChannels 0\n",
      "defaultLowInputLatency 0.09\n",
      "defaultLowOutputLatency 0.09\n",
      "defaultHighInputLatency 0.18\n",
      "defaultHighOutputLatency 0.18\n",
      "defaultSampleRate 44100.0\n",
      "index 8\n",
      "structVersion 2\n",
      "name Mapowanie dźwięku Microsoft - Output\n",
      "hostApi 0\n",
      "maxInputChannels 0\n",
      "maxOutputChannels 2\n",
      "defaultLowInputLatency 0.09\n",
      "defaultLowOutputLatency 0.09\n",
      "defaultHighInputLatency 0.18\n",
      "defaultHighOutputLatency 0.18\n",
      "defaultSampleRate 44100.0\n",
      "index 9\n",
      "structVersion 2\n",
      "name Analog (3+4) (RME Babyface)\n",
      "hostApi 0\n",
      "maxInputChannels 0\n",
      "maxOutputChannels 2\n",
      "defaultLowInputLatency 0.09\n",
      "defaultLowOutputLatency 0.09\n",
      "defaultHighInputLatency 0.18\n",
      "defaultHighOutputLatency 0.18\n",
      "defaultSampleRate 44100.0\n",
      "index 10\n",
      "structVersion 2\n",
      "name SPDIF/ADAT (1+2) (RME Babyface)\n",
      "hostApi 0\n",
      "maxInputChannels 0\n",
      "maxOutputChannels 2\n",
      "defaultLowInputLatency 0.09\n",
      "defaultLowOutputLatency 0.09\n",
      "defaultHighInputLatency 0.18\n",
      "defaultHighOutputLatency 0.18\n",
      "defaultSampleRate 44100.0\n",
      "index 11\n",
      "structVersion 2\n",
      "name Głośniki (RME Babyface)\n",
      "hostApi 0\n",
      "maxInputChannels 0\n",
      "maxOutputChannels 8\n",
      "defaultLowInputLatency 0.09\n",
      "defaultLowOutputLatency 0.09\n",
      "defaultHighInputLatency 0.18\n",
      "defaultHighOutputLatency 0.18\n",
      "defaultSampleRate 44100.0\n",
      "index 12\n",
      "structVersion 2\n",
      "name ADAT (5+6) (RME Babyface)\n",
      "hostApi 0\n",
      "maxInputChannels 0\n",
      "maxOutputChannels 2\n",
      "defaultLowInputLatency 0.09\n",
      "defaultLowOutputLatency 0.09\n",
      "defaultHighInputLatency 0.18\n",
      "defaultHighOutputLatency 0.18\n",
      "defaultSampleRate 44100.0\n",
      "index 13\n",
      "structVersion 2\n",
      "name Głośniki (Waves SoundGrid)\n",
      "hostApi 0\n",
      "maxInputChannels 0\n",
      "maxOutputChannels 8\n",
      "defaultLowInputLatency 0.09\n",
      "defaultLowOutputLatency 0.09\n",
      "defaultHighInputLatency 0.18\n",
      "defaultHighOutputLatency 0.18\n",
      "defaultSampleRate 44100.0\n",
      "index 14\n",
      "structVersion 2\n",
      "name ADAT (7+8) (RME Babyface)\n",
      "hostApi 0\n",
      "maxInputChannels 0\n",
      "maxOutputChannels 2\n",
      "defaultLowInputLatency 0.09\n",
      "defaultLowOutputLatency 0.09\n",
      "defaultHighInputLatency 0.18\n",
      "defaultHighOutputLatency 0.18\n",
      "defaultSampleRate 44100.0\n",
      "index 15\n",
      "structVersion 2\n",
      "name Realtek Digital Output (Realtek\n",
      "hostApi 0\n",
      "maxInputChannels 0\n",
      "maxOutputChannels 2\n",
      "defaultLowInputLatency 0.09\n",
      "defaultLowOutputLatency 0.09\n",
      "defaultHighInputLatency 0.18\n",
      "defaultHighOutputLatency 0.18\n",
      "defaultSampleRate 44100.0\n",
      "index 16\n",
      "structVersion 2\n",
      "name Głośniki (Realtek High Definiti\n",
      "hostApi 0\n",
      "maxInputChannels 0\n",
      "maxOutputChannels 8\n",
      "defaultLowInputLatency 0.09\n",
      "defaultLowOutputLatency 0.09\n",
      "defaultHighInputLatency 0.18\n",
      "defaultHighOutputLatency 0.18\n",
      "defaultSampleRate 44100.0\n",
      "index 17\n",
      "structVersion 2\n",
      "name ADAT (3+4) (RME Babyface)\n",
      "hostApi 0\n",
      "maxInputChannels 0\n",
      "maxOutputChannels 2\n",
      "defaultLowInputLatency 0.09\n",
      "defaultLowOutputLatency 0.09\n",
      "defaultHighInputLatency 0.18\n",
      "defaultHighOutputLatency 0.18\n",
      "defaultSampleRate 44100.0\n",
      "index 18\n",
      "structVersion 2\n",
      "name ADAT (5+6) (Babyface ADAT (5+6))\n",
      "hostApi 1\n",
      "maxInputChannels 0\n",
      "maxOutputChannels 2\n",
      "defaultLowInputLatency 0.01\n",
      "defaultLowOutputLatency 0.01\n",
      "defaultHighInputLatency 0.08533333333333333\n",
      "defaultHighOutputLatency 0.08533333333333333\n",
      "defaultSampleRate 44100.0\n",
      "index 19\n",
      "structVersion 2\n",
      "name ADAT (5+6) (Babyface ADAT (5+6))\n",
      "hostApi 1\n",
      "maxInputChannels 2\n",
      "maxOutputChannels 0\n",
      "defaultLowInputLatency 0.01\n",
      "defaultLowOutputLatency 0.01\n",
      "defaultHighInputLatency 0.08533333333333333\n",
      "defaultHighOutputLatency 0.08533333333333333\n",
      "defaultSampleRate 44100.0\n",
      "index 20\n",
      "structVersion 2\n",
      "name ADAT (7+8) (Babyface ADAT (7+8))\n",
      "hostApi 1\n",
      "maxInputChannels 0\n",
      "maxOutputChannels 2\n",
      "defaultLowInputLatency 0.01\n",
      "defaultLowOutputLatency 0.01\n",
      "defaultHighInputLatency 0.08533333333333333\n",
      "defaultHighOutputLatency 0.08533333333333333\n",
      "defaultSampleRate 44100.0\n",
      "index 21\n",
      "structVersion 2\n",
      "name ADAT (7+8) (Babyface ADAT (7+8))\n",
      "hostApi 1\n",
      "maxInputChannels 2\n",
      "maxOutputChannels 0\n",
      "defaultLowInputLatency 0.01\n",
      "defaultLowOutputLatency 0.01\n",
      "defaultHighInputLatency 0.08533333333333333\n",
      "defaultHighOutputLatency 0.08533333333333333\n",
      "defaultSampleRate 44100.0\n",
      "index 22\n",
      "structVersion 2\n",
      "name Analog (1+2) (Babyface Analog (1+2))\n",
      "hostApi 1\n",
      "maxInputChannels 0\n",
      "maxOutputChannels 8\n",
      "defaultLowInputLatency 0.01\n",
      "defaultLowOutputLatency 0.01\n",
      "defaultHighInputLatency 0.08533333333333333\n",
      "defaultHighOutputLatency 0.08533333333333333\n",
      "defaultSampleRate 44100.0\n",
      "index 23\n",
      "structVersion 2\n",
      "name Analog (1+2) (Babyface Analog (1+2))\n",
      "hostApi 1\n",
      "maxInputChannels 2\n",
      "maxOutputChannels 0\n",
      "defaultLowInputLatency 0.01\n",
      "defaultLowOutputLatency 0.01\n",
      "defaultHighInputLatency 0.08533333333333333\n",
      "defaultHighOutputLatency 0.08533333333333333\n",
      "defaultSampleRate 44100.0\n",
      "index 24\n",
      "structVersion 2\n",
      "name Analog (3+4) (Babyface Analog (3+4))\n",
      "hostApi 1\n",
      "maxInputChannels 0\n",
      "maxOutputChannels 2\n",
      "defaultLowInputLatency 0.01\n",
      "defaultLowOutputLatency 0.01\n",
      "defaultHighInputLatency 0.08533333333333333\n",
      "defaultHighOutputLatency 0.08533333333333333\n",
      "defaultSampleRate 44100.0\n",
      "index 25\n",
      "structVersion 2\n",
      "name SPDIF/ADAT (1+2) (Babyface SPDIF/ADAT (1+2))\n",
      "hostApi 1\n",
      "maxInputChannels 0\n",
      "maxOutputChannels 2\n",
      "defaultLowInputLatency 0.01\n",
      "defaultLowOutputLatency 0.01\n",
      "defaultHighInputLatency 0.08533333333333333\n",
      "defaultHighOutputLatency 0.08533333333333333\n",
      "defaultSampleRate 44100.0\n",
      "index 26\n",
      "structVersion 2\n",
      "name SPDIF/ADAT (1+2) (Babyface SPDIF/ADAT (1+2))\n",
      "hostApi 1\n",
      "maxInputChannels 2\n",
      "maxOutputChannels 0\n",
      "defaultLowInputLatency 0.01\n",
      "defaultLowOutputLatency 0.01\n",
      "defaultHighInputLatency 0.08533333333333333\n",
      "defaultHighOutputLatency 0.08533333333333333\n",
      "defaultSampleRate 44100.0\n",
      "index 27\n",
      "structVersion 2\n",
      "name ADAT (3+4) (Babyface ADAT (3+4))\n",
      "hostApi 1\n",
      "maxInputChannels 0\n",
      "maxOutputChannels 2\n",
      "defaultLowInputLatency 0.01\n",
      "defaultLowOutputLatency 0.01\n",
      "defaultHighInputLatency 0.08533333333333333\n",
      "defaultHighOutputLatency 0.08533333333333333\n",
      "defaultSampleRate 44100.0\n",
      "index 28\n",
      "structVersion 2\n",
      "name ADAT (3+4) (Babyface ADAT (3+4))\n",
      "hostApi 1\n",
      "maxInputChannels 2\n",
      "maxOutputChannels 0\n",
      "defaultLowInputLatency 0.01\n",
      "defaultLowOutputLatency 0.01\n",
      "defaultHighInputLatency 0.08533333333333333\n",
      "defaultHighOutputLatency 0.08533333333333333\n",
      "defaultSampleRate 44100.0\n",
      "index 29\n",
      "structVersion 2\n",
      "name Wejście liniowe (Realtek HD Audio Line input)\n",
      "hostApi 1\n",
      "maxInputChannels 2\n",
      "maxOutputChannels 0\n",
      "defaultLowInputLatency 0.01\n",
      "defaultLowOutputLatency 0.01\n",
      "defaultHighInputLatency 0.04\n",
      "defaultHighOutputLatency 0.04\n",
      "defaultSampleRate 44100.0\n",
      "index 30\n",
      "structVersion 2\n",
      "name Speakers (Realtek HD Audio output)\n",
      "hostApi 1\n",
      "maxInputChannels 0\n",
      "maxOutputChannels 8\n",
      "defaultLowInputLatency 0.01\n",
      "defaultLowOutputLatency 0.01\n",
      "defaultHighInputLatency 0.04\n",
      "defaultHighOutputLatency 0.04\n",
      "defaultSampleRate 44100.0\n",
      "index 31\n",
      "structVersion 2\n",
      "name Mikrofon (Realtek HD Audio Mic input)\n",
      "hostApi 1\n",
      "maxInputChannels 2\n",
      "maxOutputChannels 0\n",
      "defaultLowInputLatency 0.01\n",
      "defaultLowOutputLatency 0.01\n",
      "defaultHighInputLatency 0.04\n",
      "defaultHighOutputLatency 0.04\n",
      "defaultSampleRate 44100.0\n",
      "index 32\n",
      "structVersion 2\n",
      "name Miks stereo (Realtek HD Audio Stereo input)\n",
      "hostApi 1\n",
      "maxInputChannels 2\n",
      "maxOutputChannels 0\n",
      "defaultLowInputLatency 0.01\n",
      "defaultLowOutputLatency 0.01\n",
      "defaultHighInputLatency 0.04\n",
      "defaultHighOutputLatency 0.04\n",
      "defaultSampleRate 48000.0\n",
      "index 33\n",
      "structVersion 2\n",
      "name SPDIF Out (Realtek HDA SPDIF Out)\n",
      "hostApi 1\n",
      "maxInputChannels 0\n",
      "maxOutputChannels 2\n",
      "defaultLowInputLatency 0.01\n",
      "defaultLowOutputLatency 0.01\n",
      "defaultHighInputLatency 0.04\n",
      "defaultHighOutputLatency 0.04\n",
      "defaultSampleRate 44100.0\n",
      "index 34\n",
      "structVersion 2\n",
      "name Głośniki (SG Wave)\n",
      "hostApi 1\n",
      "maxInputChannels 0\n",
      "maxOutputChannels 8\n",
      "defaultLowInputLatency 0.01\n",
      "defaultLowOutputLatency 0.01\n",
      "defaultHighInputLatency 0.08533333333333333\n",
      "defaultHighOutputLatency 0.08533333333333333\n",
      "defaultSampleRate 44100.0\n",
      "index 35\n",
      "structVersion 2\n",
      "name Line In /Microphone (SG Wave)\n",
      "hostApi 1\n",
      "maxInputChannels 8\n",
      "maxOutputChannels 0\n",
      "defaultLowInputLatency 0.01\n",
      "defaultLowOutputLatency 0.01\n",
      "defaultHighInputLatency 0.08533333333333333\n",
      "defaultHighOutputLatency 0.08533333333333333\n",
      "defaultSampleRate 44100.0\n"
     ]
    }
   ],
   "source": [
    "# print ALL info\n",
    "for id in range(pa.get_device_count()):\n",
    "    for key, value in pa.get_device_info_by_index(id).items():\n",
    "        print(key,value)"
   ]
  },
  {
   "cell_type": "code",
   "execution_count": 11,
   "metadata": {},
   "outputs": [],
   "source": [
    "wav_file = wave.open('jazz.wav', mode='rb')"
   ]
  },
  {
   "cell_type": "code",
   "execution_count": 12,
   "metadata": {},
   "outputs": [],
   "source": [
    "stream_out = pa.open(rate = 48000, channels = 2, format = pyaudio.paInt16, frames_per_buffer=1024, output=True,input=False)"
   ]
  },
  {
   "cell_type": "code",
   "execution_count": 13,
   "metadata": {},
   "outputs": [],
   "source": [
    "# play sound\n",
    "stream_out.write(wav_file.readframes(48000*5))"
   ]
  },
  {
   "cell_type": "code",
   "execution_count": 14,
   "metadata": {},
   "outputs": [],
   "source": [
    "stream_in = pa.open(rate = 48000, channels = 2, format = pyaudio.paInt16, frames_per_buffer=1024, output=False,input=True)"
   ]
  },
  {
   "cell_type": "code",
   "execution_count": 15,
   "metadata": {},
   "outputs": [],
   "source": [
    "rec_buffer = stream_in.read(48000*5) #record from mic"
   ]
  },
  {
   "cell_type": "code",
   "execution_count": 16,
   "metadata": {},
   "outputs": [],
   "source": [
    "stream_out.write(rec_buffer)"
   ]
  },
  {
   "cell_type": "code",
   "execution_count": 17,
   "metadata": {},
   "outputs": [],
   "source": [
    "rec_array = np.frombuffer(rec_buffer, dtype=np.int16)\n",
    "\n",
    "out_array = np.zeros(rec_array.shape[0], dtype=np.int16)"
   ]
  },
  {
   "cell_type": "code",
   "execution_count": 18,
   "metadata": {},
   "outputs": [],
   "source": [
    "out_array[0::2] = rec_array[0::2] # right without changes\n",
    "\n",
    "out_array[1::2] = rec_array [1::2] * .1 # left quieter "
   ]
  },
  {
   "cell_type": "code",
   "execution_count": 19,
   "metadata": {},
   "outputs": [],
   "source": [
    "stream_out.write(out_array.tobytes()) # play "
   ]
  },
  {
   "cell_type": "code",
   "execution_count": 20,
   "metadata": {},
   "outputs": [],
   "source": [
    "stream_out.close()"
   ]
  }
 ],
 "metadata": {
  "kernelspec": {
   "display_name": "Python 3",
   "language": "python",
   "name": "python3"
  },
  "language_info": {
   "codemirror_mode": {
    "name": "ipython",
    "version": 3
   },
   "file_extension": ".py",
   "mimetype": "text/x-python",
   "name": "python",
   "nbconvert_exporter": "python",
   "pygments_lexer": "ipython3",
   "version": "3.6.0"
  }
 },
 "nbformat": 4,
 "nbformat_minor": 2
}
