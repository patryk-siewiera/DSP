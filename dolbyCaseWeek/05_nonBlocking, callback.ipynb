{
 "cells": [
  {
   "cell_type": "markdown",
   "metadata": {},
   "source": [
    "# 05_non-blocking / callback"
   ]
  },
  {
   "cell_type": "raw",
   "metadata": {},
   "source": [
    "DOLBY CASEWEEK 2019 PWR"
   ]
  },
  {
   "cell_type": "code",
   "execution_count": 1,
   "metadata": {},
   "outputs": [],
   "source": [
    "import wave\n",
    "import pyaudio\n",
    "\n",
    "buffer_size = 1024\n",
    "pa = pyaudio.PyAudio()\n",
    "wf = wave.open(r'jazz.wav')\n",
    "\n",
    "def call_out(in_data, frame_count, time_info, status_flags):\n",
    "    out_data = wf.readframes(buffer_size)\n",
    "    \n",
    "    return out_data, pyaudio.paContinue"
   ]
  },
  {
   "cell_type": "code",
   "execution_count": 2,
   "metadata": {},
   "outputs": [],
   "source": [
    "pa = pyaudio.PyAudio()\n",
    "stream_out= pa.open (rate= 48000, channels = 2, format = pyaudio.paInt16, frames_per_buffer = buffer_size, output=True, stream_callback= call_out, start=False)"
   ]
  },
  {
   "cell_type": "code",
   "execution_count": 3,
   "metadata": {},
   "outputs": [],
   "source": [
    "stream_out.start_stream() # open file without blocking access"
   ]
  },
  {
   "cell_type": "code",
   "execution_count": 4,
   "metadata": {},
   "outputs": [],
   "source": [
    "pa = pyaudio.PyAudio()\n",
    "stream_out= pa.open (rate= 48000, channels = 2, format = pyaudio.paInt16, frames_per_buffer = buffer_size, output=True, stream_callback= call_out, start=False)"
   ]
  },
  {
   "cell_type": "code",
   "execution_count": 5,
   "metadata": {},
   "outputs": [],
   "source": [
    "stream_out.stop_stream() # stop"
   ]
  },
  {
   "cell_type": "code",
   "execution_count": 6,
   "metadata": {},
   "outputs": [],
   "source": [
    "import numpy as np\n",
    "input_array = np.zeros(96000*10, dtype = np.int16)\n",
    "counter = 0 \n",
    "\n",
    "\n",
    "def call_in(in_data, frame_number, time_info, status_flags):\n",
    "    global counter\n",
    "    input_array[counter*buffer_size* 2 :(counter+1)*buffer_size*2] = np.frombuffer(in_data)\n",
    "    counter+=1\n",
    "    out_data=None\n",
    "\n",
    "    return out_data, pyaudio.paContinue"
   ]
  },
  {
   "cell_type": "code",
   "execution_count": 7,
   "metadata": {},
   "outputs": [],
   "source": [
    "pa = pyaudio.PyAudio()\n",
    "stream_out= pa.open (rate= 48000, channels = 2, format = pyaudio.paInt16, frames_per_buffer = buffer_size, output=True, stream_callback= call_out, start=False)"
   ]
  },
  {
   "cell_type": "code",
   "execution_count": 8,
   "metadata": {},
   "outputs": [],
   "source": [
    "stream_in = pa.open(rate = 48000, channels = 2, format = pyaudio.paInt16, frames_per_buffer=buffer_size, input=True, stream_callback=call_in, start=False)"
   ]
  },
  {
   "cell_type": "code",
   "execution_count": 9,
   "metadata": {},
   "outputs": [],
   "source": [
    "stream_in.start_stream()"
   ]
  },
  {
   "cell_type": "code",
   "execution_count": 10,
   "metadata": {},
   "outputs": [],
   "source": [
    "stream_in.stop_stream()"
   ]
  },
  {
   "cell_type": "code",
   "execution_count": 11,
   "metadata": {},
   "outputs": [
    {
     "name": "stdout",
     "output_type": "stream",
     "text": [
      "[0 0 0 0 0 0 0 0 0 0 0 0 0 0 0 0 0 0 0 0 0 0 0 0 0 0 0 0 0 0 0 0 0 0 0 0 0\n",
      " 0 0 0 0 0 0 0 0 0 0 0 0 0 0 0 0 0 0 0 0 0 0 0 0 0 0 0 0 0 0 0 0 0 0 0 0 0\n",
      " 0 0 0 0 0 0 0 0 0 0 0 0 0 0 0 0 0 0 0 0 0 0 0 0 0 0]\n"
     ]
    }
   ],
   "source": [
    "print(input_array[0:100])"
   ]
  },
  {
   "cell_type": "raw",
   "metadata": {},
   "source": []
  },
  {
   "cell_type": "raw",
   "metadata": {},
   "source": [
    "TO DO: delay effect"
   ]
  },
  {
   "cell_type": "code",
   "execution_count": 12,
   "metadata": {},
   "outputs": [],
   "source": [
    "delay_line = np.zeros(buffer_size*100, dtype=np.int16)\n",
    "\n",
    "def delay (in_data, frame_number, time):\n",
    "    global delay_line\n",
    "    delay_a = buffer_size*10\n",
    "    delay_line = np.roll(delay_line, buffer_size*2)"
   ]
  }
 ],
 "metadata": {
  "kernelspec": {
   "display_name": "Python 3",
   "language": "python",
   "name": "python3"
  },
  "language_info": {
   "codemirror_mode": {
    "name": "ipython",
    "version": 3
   },
   "file_extension": ".py",
   "mimetype": "text/x-python",
   "name": "python",
   "nbconvert_exporter": "python",
   "pygments_lexer": "ipython3",
   "version": "3.6.0"
  }
 },
 "nbformat": 4,
 "nbformat_minor": 2
}
